{
 "cells": [
  {
   "cell_type": "code",
   "execution_count": 1,
   "metadata": {},
   "outputs": [],
   "source": [
    "import numpy as np \n",
    "import cv2 as cv \n",
    "\n",
    "def display(img):\n",
    "    cv.imshow('window', img)\n",
    "    cv.waitKey(0)\n",
    "    cv.destroyAllWindows()\n",
    "\n",
    "img = cv.imread('images/bulldog.jpeg')      # img is internally stored as a numpy ndarray\n",
    "if img is None: raise FileNotFoundError('image not found')"
   ]
  },
  {
   "cell_type": "code",
   "execution_count": 15,
   "metadata": {},
   "outputs": [
    {
     "name": "stdout",
     "output_type": "stream",
     "text": [
      "(320, 320, 3)\n",
      "[255   0   0]\n"
     ]
    }
   ],
   "source": [
    "print(img.shape)    # just imagine a 300x300 image with 3 channels, each pixel value is a tuple of 3\n",
    "print(img[0,0])     # this is better: img[0,0] vs. img[0][0]"
   ]
  },
  {
   "cell_type": "code",
   "execution_count": 13,
   "metadata": {},
   "outputs": [
    {
     "name": "stdout",
     "output_type": "stream",
     "text": [
      "[[[ 59  68  65]\n",
      "  [ 59  68  65]\n",
      "  [ 59  68  65]\n",
      "  ...\n",
      "  [ 61  74  76]\n",
      "  [ 61  74  76]\n",
      "  [ 61  74  76]]\n",
      "\n",
      " [[ 56  65  62]\n",
      "  [ 56  65  62]\n",
      "  [ 56  65  62]\n",
      "  ...\n",
      "  [ 58  71  73]\n",
      "  [ 58  71  73]\n",
      "  [ 58  71  73]]\n",
      "\n",
      " [[ 52  61  58]\n",
      "  [ 52  61  58]\n",
      "  [ 52  61  58]\n",
      "  ...\n",
      "  [ 53  66  68]\n",
      "  [ 53  66  68]\n",
      "  [ 53  66  68]]\n",
      "\n",
      " ...\n",
      "\n",
      " [[198 199 209]\n",
      "  [198 199 209]\n",
      "  [197 198 208]\n",
      "  ...\n",
      "  [158 163 188]\n",
      "  [158 163 188]\n",
      "  [158 163 188]]\n",
      "\n",
      " [[201 200 209]\n",
      "  [201 200 209]\n",
      "  [201 200 209]\n",
      "  ...\n",
      "  [157 161 189]\n",
      "  [157 161 189]\n",
      "  [158 162 190]]\n",
      "\n",
      " [[202 201 210]\n",
      "  [202 201 210]\n",
      "  [202 201 210]\n",
      "  ...\n",
      "  [156 160 188]\n",
      "  [157 161 189]\n",
      "  [157 161 189]]]\n"
     ]
    }
   ],
   "source": [
    "paw = img[191:249, 169:232]    # select contiguous pixel region of height: 191-249 and width: 169-232\n",
    "blue = img[:,:,0]   # selecting individual BGR channel blue \n",
    "blue = 0      # this would turn first channel to all zeros (first value in tuple)\n",
    "print(img[:,:])\n",
    "display(img)\n"
   ]
  },
  {
   "cell_type": "code",
   "execution_count": 14,
   "metadata": {},
   "outputs": [],
   "source": [
    "img = cv.copyMakeBorder(img, 10,10,10,10, cv.BORDER_CONSTANT, value = [255,0,0])        # some shitty border\n",
    "display(img)\n"
   ]
  },
  {
   "cell_type": "code",
   "execution_count": 3,
   "metadata": {},
   "outputs": [
    {
     "ename": "TypeError",
     "evalue": "Can't convert object to 'str' for 'filename'",
     "output_type": "error",
     "traceback": [
      "\u001b[1;31m---------------------------------------------------------------------------\u001b[0m",
      "\u001b[1;31mTypeError\u001b[0m                                 Traceback (most recent call last)",
      "Cell \u001b[1;32mIn[3], line 2\u001b[0m\n\u001b[0;32m      1\u001b[0m \u001b[39m# Template matching\u001b[39;00m\n\u001b[1;32m----> 2\u001b[0m img \u001b[39m=\u001b[39m cv\u001b[39m.\u001b[39;49mimread(img, \u001b[39m0\u001b[39;49m)\n\u001b[0;32m      3\u001b[0m paw \u001b[39m=\u001b[39m img[\u001b[39m191\u001b[39m:\u001b[39m249\u001b[39m, \u001b[39m169\u001b[39m:\u001b[39m232\u001b[39m]  \n\u001b[0;32m      4\u001b[0m display(img)\n",
      "\u001b[1;31mTypeError\u001b[0m: Can't convert object to 'str' for 'filename'"
     ]
    }
   ],
   "source": [
    "# Template matching\n",
    "img = cv.imread(img, 0)\n",
    "paw = img[191:249, 169:232]  \n",
    "display(img)\n"
   ]
  }
 ],
 "metadata": {
  "kernelspec": {
   "display_name": "Python 3",
   "language": "python",
   "name": "python3"
  },
  "language_info": {
   "codemirror_mode": {
    "name": "ipython",
    "version": 3
   },
   "file_extension": ".py",
   "mimetype": "text/x-python",
   "name": "python",
   "nbconvert_exporter": "python",
   "pygments_lexer": "ipython3",
   "version": "3.11.4"
  },
  "orig_nbformat": 4
 },
 "nbformat": 4,
 "nbformat_minor": 2
}
